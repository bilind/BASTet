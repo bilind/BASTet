{
 "metadata": {
  "name": "",
  "signature": "sha256:b25d476beb51c9365cb03d7b4db01b585d032216bf30078ba7a6df15f310dc49"
 },
 "nbformat": 3,
 "nbformat_minor": 0,
 "worksheets": [
  {
   "cells": [
    {
     "cell_type": "code",
     "collapsed": false,
     "input": [
      "#Imports\n",
      "%matplotlib inline\n",
      "import numpy as np\n",
      "import mkl\n",
      "import matplotlib.pyplot as plt\n",
      "import re\n",
      "\n",
      "import sys\n",
      "def isneeded(x):\n",
      "    if x not in sys.path:\n",
      "        sys.path.append(x)\n",
      "\n",
      "isneeded('/Users/curt/openMSI_SVN/openmsi-tk/')\n",
      "isneeded('/Users/curt/openMSI_localdata/')\n",
      "\n",
      "from omsi.dataformat.mzml_file_CF import *\n",
      "from omsi.analysis.findpeaks.omsi_findpeaks_global import *\n",
      "from omsi.analysis.findpeaks.omsi_findpeaks_local import *"
     ],
     "language": "python",
     "metadata": {},
     "outputs": [],
     "prompt_number": 21
    },
    {
     "cell_type": "code",
     "collapsed": false,
     "input": [
      "#Reading the MS2 image file and building a list of datacubes\n",
      "ms2img = mzml_file(basename=\"/Users/curt/openMSI_localdata/re-reimaging_TI.mzML\")"
     ],
     "language": "python",
     "metadata": {},
     "outputs": [
      {
       "output_type": "stream",
       "stream": "stdout",
       "text": [
        "Read 2806 scans from mzML file.\n",
        "Found 3 different scan types in mzML file."
       ]
      },
      {
       "output_type": "stream",
       "stream": "stdout",
       "text": [
        "\n",
        "Processed data for 0 spectra to datacube for scan type ITMS + p MALDI Z ms2 907.73@cid60.00 [500.00-700.00]"
       ]
      },
      {
       "output_type": "stream",
       "stream": "stdout",
       "text": [
        "\n",
        "Processed data for 1000 spectra to datacube for scan type ITMS + p MALDI Z ms2 907.73@cid60.00 [500.00-700.00]"
       ]
      },
      {
       "output_type": "stream",
       "stream": "stdout",
       "text": [
        "\n",
        "Processed data for 2000 spectra to datacube for scan type ITMS + p MALDI Z ms2 907.73@cid60.00 [500.00-700.00]"
       ]
      },
      {
       "output_type": "stream",
       "stream": "stdout",
       "text": [
        "\n",
        "Processed data for 0 spectra to datacube for scan type FTMS + p MALDI Full ms [850.00-1000.00]"
       ]
      },
      {
       "output_type": "stream",
       "stream": "stdout",
       "text": [
        "\n",
        "Processed data for 1000 spectra to datacube for scan type FTMS + p MALDI Full ms [850.00-1000.00]"
       ]
      },
      {
       "output_type": "stream",
       "stream": "stdout",
       "text": [
        "\n",
        "Processed data for 2000 spectra to datacube for scan type FTMS + p MALDI Full ms [850.00-1000.00]"
       ]
      },
      {
       "output_type": "stream",
       "stream": "stdout",
       "text": [
        "\n",
        "Processed data for 0 spectra to datacube for scan type ITMS + p MALDI Z ms2 906.76@cid60.00 [500.00-700.00]"
       ]
      },
      {
       "output_type": "stream",
       "stream": "stdout",
       "text": [
        "\n",
        "Processed data for 1000 spectra to datacube for scan type ITMS + p MALDI Z ms2 906.76@cid60.00 [500.00-700.00]"
       ]
      },
      {
       "output_type": "stream",
       "stream": "stdout",
       "text": [
        "\n",
        "Processed data for 2000 spectra to datacube for scan type ITMS + p MALDI Z ms2 906.76@cid60.00 [500.00-700.00]"
       ]
      },
      {
       "output_type": "stream",
       "stream": "stdout",
       "text": [
        "\n"
       ]
      }
     ],
     "prompt_number": 22
    },
    {
     "cell_type": "code",
     "collapsed": false,
     "input": [
      "print ms2img.scan_types"
     ],
     "language": "python",
     "metadata": {},
     "outputs": [
      {
       "output_type": "stream",
       "stream": "stdout",
       "text": [
        "['ITMS + p MALDI Z ms2 907.73@cid60.00 [500.00-700.00]', 'FTMS + p MALDI Full ms [850.00-1000.00]', 'ITMS + p MALDI Z ms2 906.76@cid60.00 [500.00-700.00]']\n"
       ]
      }
     ],
     "prompt_number": 23
    },
    {
     "cell_type": "code",
     "collapsed": false,
     "input": [
      "for \n",
      "\n",
      "\n",
      "pkcube, pkmz = ms2pks.execute(msidata=ms2img.data[0], mzdata=ms2img.mz[0],\\\n",
      "                                          slwindow=10, smoothwidth=2)\n",
      "\n",
      "pkcube = pkcube.reshape(pkcube.shape[1], pkcube.shape[0], pkcube.shape[2])\n",
      "\n",
      "print \"Minimum m/z spacing between peaks = %s\" % np.diff(np.sort(pkmz)).min()\n",
      "print \"Maximum peak intensity is %s\" % pkcube.max()\n",
      "print \"Peak m/zs are %s\" % pkmz\n",
      "\n",
      "plt.imshow(pkcube.sum(axis=2))\n",
      "\n",
      "ms2img.peakcube = pkcube"
     ],
     "language": "python",
     "metadata": {},
     "outputs": [
      {
       "output_type": "stream",
       "stream": "stdout",
       "text": [
        "Minimum m/z spacing between peaks = 21.9543457031\n",
        "Maximum peak intensity is 3481.0\n",
        "Peak m/zs are [ 603.42492676  625.37927246]\n"
       ]
      },
      {
       "metadata": {},
       "output_type": "display_data",
       "png": "[encoded data removed]",
       "text": [
        "<matplotlib.figure.Figure at 0x1115d5910>"
       ]
      }
     ],
     "prompt_number": 108
    },
    {
     "cell_type": "code",
     "collapsed": false,
     "input": [
      "scanlist = []\n",
      "defaultcharge = 1\n",
      "\n",
      "#initialize all peakcubes and peakmzs as appropriate-length lists of empty numpy arrays\n",
      "ms2img.peakcube = [np.zeros(0) for scantype in ms2img.scan_types]\n",
      "ms2img.peakmz = [np.zeros(0) for scantype in ms2img.scan_types]\n",
      "\n",
      "for ix, scan in enumerate(ms2img.scan_types):\n",
      "    \n",
      "    #only work on MS2 scans\n",
      "    if scan.find('ms2')!=-1:\n",
      "        \n",
      "        #find peakcube from datacube using findpeaks_global\n",
      "        ms2pks = omsi_findpeaks_global(name_key = 'finding global peaks')\n",
      "        ms2img.peakcube[ix], ms2img.peakmz[ix] = ms2pks.execute(msidata=ms2img.data[ix], \\\n",
      "                                                                mzdata=ms2img.mz[ix],\\\n",
      "                                                                slwindow=10, smoothwidth=2)\n",
      "        \n",
      "        #read all MS2 speaks\n",
      "        nx, ny, nmz = ms2img.peakcube[ix].shape  \n",
      "        print \"Reading peakcube with shape (%s, %s, %s)\" % (nx, ny, nmz)\n",
      "        for x in np.arange(nx):\n",
      "            for y in np.arange(ny):\n",
      "                current_peaks_list = np.zeros(shape=(ms2img.peakmz[ix].shape[0], 3), dtype=float)\n",
      "                current_peaks_list[:, 0] = ms2img.peakmz[ix]\n",
      "                current_peaks_list[:, 1] = ms2img.peakcube[ix][x, y, :]\n",
      "                scanlist.append(current_peaks_list)\n",
      "                \n",
      "                #for now, just get precursor mass from scan filter string\n",
      "                ## eventually this should be found by inspecting MS2 or MS1 spectra \n",
      "                dPrecursorMofZ = float(filter(None, re.findall('[\\d.]+(?=@)', scan))[0])              \n",
      "                \n",
      "                protonmass = 1.00782503207 - 5.4857990946e-4\n",
      "                chargestate = defaultcharge\n",
      "                scanlist.append(dPrecursorMofZ-chargestate*protonmass)\n",
      "                scanlist.append(ix*(x*nx+y)) #scan number as image location\n",
      "                scanlist.append(chargestate)\n",
      "                scanlist.append(dPrecursorMofZ)\n",
      "                scanlist.append(0) #retention time\n",
      "                scanlist.append('') #sScanHead, probably not needed"
     ],
     "language": "python",
     "metadata": {},
     "outputs": [
      {
       "output_type": "stream",
       "stream": "stdout",
       "text": [
        "Reading peakcube with shape (61, 23, 2)\n",
        "Reading peakcube with shape (61, 23, 5)"
       ]
      },
      {
       "output_type": "stream",
       "stream": "stdout",
       "text": [
        "\n"
       ]
      }
     ],
     "prompt_number": 122
    },
    {
     "cell_type": "code",
     "collapsed": false,
     "input": [
      "print len(scanlist)\n",
      "print scanlist[0]\n",
      "print scanlist[1]"
     ],
     "language": "python",
     "metadata": {},
     "outputs": [
      {
       "output_type": "stream",
       "stream": "stdout",
       "text": [
        "19642\n",
        "906.722723548\n"
       ]
      }
     ],
     "prompt_number": 128
    }
   ],
   "metadata": {}
  }
 ]
}