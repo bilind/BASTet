{
 "worksheets": [
  {
   "cells": [
    {
     "cell_type": "markdown",
     "metadata": {},
     "source": [
      "20140429_KBL_NP_1x_10_20_30microLspots_70ss\n",
      "\n",
      "1. E. coli WT CYE (271,100)\n",
      "2. E. coli WT LB (272, 135)\n",
      "3. E. coli E96 CYE (152, 101)\n",
      "4. E. coli E96 LB (171, 146)\n",
      "5. Serratia CYE (81, 101)\n",
      "6. Serratia LB (100, 146)"
     ]
    },
    {
     "cell_type": "code",
     "metadata": {},
     "outputs": [],
     "input": [
      "# %pylab inline\n",
      "# %config InlineBackend.figure_format = 'svg' \n",
      "from pylab import *\n",
      "import matplotlib.pyplot as plt\n",
      "from mpl_toolkits.axes_grid1 import ImageGrid\n",
      "import time\n",
      "import sys\n",
      "import requests, json\n",
      "import numpy as np\n",
      "sys.path.append('/Users/bpb/Data/programming/OpenMSI/CodeForgeRepo/openmsi-tk/omsi/analysis/findpeaks')\n",
      "from findpeaks import findpeaks"
     ],
     "language": "python",
     "prompt_number": 1
    },
    {
     "cell_type": "markdown",
     "metadata": {},
     "source": [
      "Specify required variables.  Delete the password field before saving it to the repo."
     ]
    },
    {
     "cell_type": "code",
     "metadata": {},
     "outputs": [],
     "input": [
      "authURL = 'https://openmsi.nersc.gov/openmsi/client/login/'\n",
      "userID = 'kblouie'\n",
      "userPassword = ''\n",
      "filename = '/project/projectdirs/openmsi/omsi_data_private/bpb/20140429_KBL_NP_1x_10_20_30microLspots_70ss'\n",
      "dataIndex = '0'\n",
      "expIndex = '0'\n",
      "spotLabel = ['E. coli WT CYE','E. coli WT LB','E. coli E96 CYE','E. coli E96 LB','Serratia CYE','Serratia LB']\n",
      "spotCoords = [[271,100],[272,135],[152,101],[171,146],[81,101],[100,146]]\n",
      "iThresh = 0.05\n",
      "minHeight = 50"
     ],
     "language": "python",
     "prompt_number": 2
    },
    {
     "cell_type": "markdown",
     "metadata": {},
     "source": [
      "Run the next block once to setup the csrf token for subsequent calls to the server."
     ]
    },
    {
     "cell_type": "code",
     "metadata": {},
     "outputs": [],
     "input": [
      "client = requests.Session()\n",
      "# Retrieve the CSRF token first\n",
      "client.get(authURL)  # sets cookie\n",
      "csrftoken = client.cookies['csrftoken']\n",
      "login_data = dict(username=userID, password=userPassword, csrfmiddlewaretoken=csrftoken, next='/')\n",
      "r = client.post(authURL, data=login_data, headers=dict(Referer=authURL))"
     ],
     "language": "python",
     "prompt_number": 3
    },
    {
     "cell_type": "markdown",
     "metadata": {},
     "source": [
      "Run the next block to get the m/z axis for the data"
     ]
    },
    {
     "cell_type": "code",
     "metadata": {},
     "outputs": [],
     "input": [
      "payload = {'file':filename,\n",
      "          'expIndex':expIndex,'dataIndex':dataIndex,'qspectrum_viewerOption':'0',\n",
      "          'qslice_viewerOption':'0',\n",
      "          'col':spotCoords[0][0],'row':spotCoords[0][1],\n",
      "          'findPeak':'0','format':'JSON'}\n",
      "url = 'https://openmsi.nersc.gov/openmsi/qmz'\n",
      "r = client.get(url,params=payload,data=login_data)\n",
      "data = json.loads(r.content)\n",
      "mz = np.asarray(data[u'values_spectra'])"
     ],
     "language": "python",
     "prompt_number": 4
    },
    {
     "cell_type": "markdown",
     "metadata": {},
     "source": [
      "Dimension the container to store our intensity values and loop through the coordinates to populate the matrix"
     ]
    },
    {
     "cell_type": "code",
     "metadata": {},
     "outputs": [],
     "input": [
      "intensity = np.zeros((len(spotCoords),len(mz)))\n",
      "for i in range ( len(spotCoords) ):\n",
      "    payload = {'file':filename,\n",
      "              'expIndex':expIndex,'dataIndex':dataIndex,'qspectrum_viewerOption':'0',\n",
      "              'qslice_viewerOption':'0',\n",
      "              'col':spotCoords[i][0],'row':spotCoords[i][1],\n",
      "              'findPeak':'0','format':'JSON'}\n",
      "    url = 'https://openmsi.nersc.gov/openmsi/qspectrum'\n",
      "    r = client.get(url,params=payload,data=login_data)\n",
      "    data = json.loads(r.content)\n",
      "    intensity[ i, : ]  = data[u'spectrum']"
     ],
     "language": "python",
     "prompt_number": 5
    },
    {
     "cell_type": "markdown",
     "metadata": {},
     "source": [
      "Run peak finding"
     ]
    },
    {
     "cell_type": "code",
     "metadata": {},
     "outputs": [
      {
       "output_type": "stream",
       "stream": "stdout",
       "text": [
        "566\n"
       ]
      }
     ],
     "input": [
      "A = findpeaks(mz,np.amax(intensity,0), 0, 0, minHeight)\n",
      "[pkmax,pkmin]=A.peakdet()\n",
      "print len(pkmax)\n",
      "pks = np.asarray(pkmax)\n",
      "mz_peaks =  mz[pks[:, 0].astype(int32)]\n",
      "peak_cube = np.zeros((intensity.shape[0],mz_peaks.shape[0]))\n",
      "for i in range(len(mz_peaks)):\n",
      "    xx = np.where(np.abs(mz - mz_peaks[i])<iThresh)\n",
      "    temp = np.amax(intensity[:,xx[0]],1)\n",
      "    peak_cube[:,i] = temp"
     ],
     "language": "python",
     "prompt_number": 6
    },
    {
     "cell_type": "code",
     "metadata": {},
     "outputs": [],
     "input": [
      "mx = np.amax(intensity,0)\n",
      "plot(mz,mx)\n",
      "plot(mz[pks[:, 0].astype(int32)],mx[pks[:, 0].astype(int32)],'o')\n",
      "show()"
     ],
     "language": "python",
     "prompt_number": 7
    },
    {
     "cell_type": "markdown",
     "metadata": {},
     "source": [
      "Check one of our known peaks: 324.2 is prodigeosin"
     ]
    },
    {
     "cell_type": "code",
     "metadata": {},
     "outputs": [
      {
       "output_type": "pyout",
       "prompt_number": 12,
       "text": [
        "array([[  32.],\n",
        "       [  27.],\n",
        "       [  38.],\n",
        "       [  16.],\n",
        "       [ 277.],\n",
        "       [  54.]])"
       ],
       "metadata": {}
      }
     ],
     "input": [
      "idx = np.where(np.abs(mz_peaks - 339.34)<0.1)\n",
      "mz_peaks[idx[0]]\n",
      "peak_cube[:,idx[0]]"
     ],
     "language": "python",
     "prompt_number": 12
    },
    {
     "cell_type": "code",
     "metadata": {},
     "outputs": [
      {
       "output_type": "stream",
       "stream": "stdout",
       "text": [
        "[  549.40411377   564.43395996   591.44519043   726.40905762  1052.50805664\n",
        "  1053.51379395  1122.4576416   1146.48547363]\n"
       ]
      }
     ],
     "input": [
      "idx = np.where( (np.sum(peak_cube<100,0)==5) & (peak_cube[3,:]>200) )\n",
      "print mz_peaks[idx[0]]"
     ],
     "language": "python",
     "prompt_number": 15
    },
    {
     "cell_type": "code",
     "metadata": {},
     "outputs": [
      {
       "output_type": "stream",
       "stream": "stdout",
       "text": [
        "[   87.04946899    87.09931183    91.14884186   119.06881714   119.19709778\n",
        "   132.08540344   140.05499268   156.05993652   176.09951782   188.15274048\n",
        "   230.1625061    257.11273193   314.3420105    324.18399048   339.35449219\n",
        "   415.21316528   430.36218262   431.1494751    549.40411377   564.43395996\n",
        "   591.44519043   636.04675293   726.40905762   857.01013184  1052.50805664\n",
        "  1053.51379395  1122.4576416   1146.48547363]\n"
       ]
      },
      {
       "output_type": "stream",
       "stream": "stderr",
       "text": [
        "/Users/bpb/anaconda/lib/python2.7/site-packages/matplotlib/image.py:640: UserWarning: The backend (matplotlib.backends.backend_macosx.RendererMac) does not support interpolation='none'. The image will be interpolated with 'nearest` mode.\n",
        "  \"mode.\" % renderer.__class__)\n"
       ]
      }
     ],
     "input": [
      "idx = np.where( (np.sum(peak_cube<100,0)==5) & (np.sum(peak_cube>200,0)==1) )\n",
      "print mz_peaks[idx[0]]\n",
      "imshow( peak_cube[:,idx[0]]>200 ,aspect = 'auto',interpolation='none')\n",
      "show()"
     ],
     "language": "python",
     "prompt_number": 13
    }
   ]
  }
 ],
 "cells": [],
 "metadata": {
  "name": ""
 },
 "nbformat": 3,
 "nbformat_minor": 0
}