{
 "worksheets": [
  {
   "cells": [
    {
     "cell_type": "code",
     "metadata": {},
     "outputs": [
      {
       "output_type": "stream",
       "stream": "stdout",
       "text": [
        "Populating the interactive namespace from numpy and matplotlib\n"
       ]
      }
     ],
     "input": [
      "%pylab inline\n",
      "%config InlineBackend.figure_format = 'svg'"
     ],
     "language": "python",
     "prompt_number": 1
    },
    {
     "cell_type": "code",
     "metadata": {},
     "outputs": [
      {
       "output_type": "stream",
       "stream": "stdout",
       "text": [
        "Automatically created module for IPython interactive environment\n"
       ]
      }
     ],
     "input": [
      "# from pylab import *\n",
      "import matplotlib.pyplot as plt\n",
      "from mpl_toolkits.axes_grid1 import ImageGrid\n",
      "import time\n",
      "from omsi.dataformat.omsi_file import *\n",
      "# from omsi.analysis.multivariate_stats.omsi_nmf import *\n",
      "# from matplotlib.mlab import PCA\n",
      "print(__doc__)\n",
      "\n",
      "from pylab import plot,show\n",
      "from numpy import vstack,array,zeros\n",
      "from numpy.random import rand\n",
      "from scipy.cluster.vq import kmeans,vq"
     ],
     "language": "python",
     "prompt_number": 30
    },
    {
     "cell_type": "code",
     "metadata": {},
     "outputs": [
      {
       "output_type": "stream",
       "stream": "stdout",
       "text": [
        "(300, 5)\n",
        "(300,)"
       ]
      },
      {
       "output_type": "stream",
       "stream": "stdout",
       "text": [
        "\n"
       ]
      }
     ],
     "input": [
      "# data generation\n",
      "data = vstack((rand(150,5) + array([.5,.5,.5,.5,.5]),rand(150,5)))\n",
      "\n",
      "# computing K-Means with K = 2 (2 clusters)\n",
      "centroids,_ = kmeans(data,2)\n",
      "# assign each sample to a cluster\n",
      "idx,_ = vq(data,centroids)\n",
      "print data.shape\n",
      "# some plotting using numpy's logical indexing\n",
      "plot(data[idx==0,0],data[idx==0,1],'ob',\n",
      "     data[idx==1,0],data[idx==1,1],'or')\n",
      "plot(centroids[:,0],centroids[:,1],'sg',markersize=8)\n",
      "show()\n",
      "print idx.shape"
     ],
     "language": "python",
     "prompt_number": 13
    },
    {
     "cell_type": "code",
     "metadata": {},
     "outputs": [],
     "input": [
      "#Load the input data\n",
      "inputFile = '/Users/bpb/20120711_Brain (2).h5'\n",
      "f = omsi_file( inputFile , 'a' )\n",
      "e = f.get_exp(0)\n",
      "a = e.get_analysis(0)\n",
      "d = a['peak_cube']"
     ],
     "language": "python",
     "prompt_number": 3
    },
    {
     "cell_type": "code",
     "metadata": {},
     "outputs": [
      {
       "output_type": "stream",
       "stream": "stdout",
       "text": [
        "(14640, 697)\n"
       ]
      }
     ],
     "input": [
      "#Execute the analysis\n",
      "# nmfResult = omsi_nmf(nameKey='NMF on peak cube')\n",
      "# nmfResult.execute( msidata=d , numComponents=15 )\n",
      "msidata = d[:] #Load all MSI data\n",
      "originalShape = msidata.shape\n",
      "\n",
      "#Convert the input data to a 2D matrix for processing by the leverage score algorithm\n",
      "numBins   = msidata.shape[-1]\n",
      "numPixels = msidata.size / numBins #The last data dimension is assumed to contain the spectra\n",
      "msidata = msidata.reshape(numPixels, numBins)\n",
      "# msidata = msidata + rand(numPixels,numBins)*0.001\n",
      "print msidata.shape"
     ],
     "language": "python",
     "prompt_number": 49
    },
    {
     "cell_type": "code",
     "metadata": {},
     "outputs": [],
     "input": [
      "centroids,_ = kmeans(msidata,15)\n",
      "# assign each sample to a cluster\n",
      "idx,_ = vq(msidata,centroids)"
     ],
     "language": "python",
     "prompt_number": 50
    },
    {
     "cell_type": "code",
     "metadata": {},
     "outputs": [
      {
       "output_type": "stream",
       "stream": "stdout",
       "text": [
        "(14640,)\n",
        "122\n"
       ]
      }
     ],
     "input": [
      "print idx.shape\n",
      "print originalShape"
     ],
     "language": "python",
     "prompt_number": 25
    },
    {
     "cell_type": "code",
     "metadata": {},
     "outputs": [],
     "input": [
      "#Save the analysis to file\n",
      "# e.create_analysis( ocx )\n",
      "# f.close_file()"
     ],
     "language": "python"
    },
    {
     "cell_type": "code",
     "metadata": {},
     "outputs": [],
     "input": [
      "# imshow(d[:,:,0:3])\n",
      "pltData = d[:]\n",
      "fig = plt.figure(1, (14., 14.))\n",
      "grid = ImageGrid(fig, 111, # similar to subplot(111)\n",
      "                nrows_ncols = (3, 5), # creates 2x2 grid of axes\n",
      "                axes_pad=0.1, # pad between axes in inch.\n",
      "                )\n",
      "s = np.sum(pltData,2)\n",
      "for i in range(15):\n",
      "    temp = np.zeros([numPixels,1])\n",
      "    temp[idx==i] = 1\n",
      "    temp = temp.reshape(originalShape[0],originalShape[1])\n",
      "    temp = temp * s\n",
      "    \n",
      "    grid[i].imshow(temp) # The AxesGrid object work as a list of axes.\n",
      "show()\n",
      "fig.savefig('/Users/bpb/kmeansImages.eps')"
     ],
     "language": "python",
     "prompt_number": 51
    },
    {
     "cell_type": "code",
     "metadata": {},
     "outputs": [],
     "input": [
      ""
     ],
     "language": "python"
    }
   ]
  }
 ],
 "cells": [],
 "metadata": {
  "name": ""
 },
 "nbformat": 3,
 "nbformat_minor": 0
}