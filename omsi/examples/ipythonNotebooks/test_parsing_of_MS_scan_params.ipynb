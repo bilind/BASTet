{
 "cells": [
  {
   "cell_type": "code",
   "execution_count": 1,
   "metadata": {
    "collapsed": false
   },
   "outputs": [],
   "source": [
    "#Imports\n",
    "%matplotlib inline\n",
    "import numpy as np\n",
    "import mkl\n",
    "import matplotlib.pyplot as plt\n",
    "\n",
    "import sys\n",
    "def isneeded(x):\n",
    "    if x not in sys.path:\n",
    "        sys.path.append(x)\n",
    "\n",
    "isneeded('/Users/curt/openMSI_SVN/openmsi-tk/')\n",
    "isneeded('/Users/curt/openMSI_localdata/')\n",
    "\n",
    "from omsi.dataformat.mzml_file import *"
   ]
  },
  {
   "cell_type": "code",
   "execution_count": 2,
   "metadata": {
    "collapsed": false
   },
   "outputs": [
    {
     "name": "stdout",
     "output_type": "stream",
     "text": [
      "Read 2806 scans from mzML file.\n",
      "Found 3 different scan types in mzML file.\n",
      "Processed data for 0 spectra to datacube for scan type ITMS + p MALDI Z ms2 907.73@cid60.00 [500.00-700.00]\n",
      "Processed data for 1000 spectra to datacube for scan type ITMS + p MALDI Z ms2 907.73@cid60.00 [500.00-700.00]\n",
      "Processed data for 2000 spectra to datacube for scan type ITMS + p MALDI Z ms2 907.73@cid60.00 [500.00-700.00]\n",
      "Processed data for 0 spectra to datacube for scan type FTMS + p MALDI Full ms [850.00-1000.00]\n",
      "Processed data for 1000 spectra to datacube for scan type FTMS + p MALDI Full ms [850.00-1000.00]\n",
      "Processed data for 2000 spectra to datacube for scan type FTMS + p MALDI Full ms [850.00-1000.00]\n",
      "Processed data for 0 spectra to datacube for scan type ITMS + p MALDI Z ms2 906.76@cid60.00 [500.00-700.00]\n",
      "Processed data for 1000 spectra to datacube for scan type ITMS + p MALDI Z ms2 906.76@cid60.00 [500.00-700.00]\n",
      "Processed data for 2000 spectra to datacube for scan type ITMS + p MALDI Z ms2 906.76@cid60.00 [500.00-700.00]\n"
     ]
    }
   ],
   "source": [
    "#Reading the MS2 image file and building a list of datacubes\n",
    "omsi_ms2 = mzml_file(basename=\"/Users/curt/openMSI_localdata/re-reimaging_TI.mzML\")"
   ]
  },
  {
   "cell_type": "code",
   "execution_count": 4,
   "metadata": {
    "collapsed": false
   },
   "outputs": [
    {
     "data": {
      "text/plain": [
       "[{'DissociationEnergy': 60.0,\n",
       "  'DissociationType': 'cid',\n",
       "  'MSnPrecursorMZ': 907.73,\n",
       "  'Polarity': 'pos'},\n",
       " {'DissociationEnergy': 0,\n",
       "  'DissociationType': 'None',\n",
       "  'MSnPrecursorMZ': 0,\n",
       "  'Polarity': 'pos'},\n",
       " {'DissociationEnergy': 60.0,\n",
       "  'DissociationType': 'cid',\n",
       "  'MSnPrecursorMZ': 906.76,\n",
       "  'Polarity': 'pos'}]"
      ]
     },
     "execution_count": 4,
     "metadata": {},
     "output_type": "execute_result"
    }
   ],
   "source": [
    "omsi_ms2.scan_params"
   ]
  }
 ],
 "metadata": {
  "kernelspec": {
   "display_name": "Python 2",
   "language": "python",
   "name": "python2"
  },
  "language_info": {
   "codemirror_mode": {
    "name": "ipython",
    "version": 2
   },
   "file_extension": ".py",
   "mimetype": "text/x-python",
   "name": "python",
   "nbconvert_exporter": "python",
   "pygments_lexer": "ipython2",
   "version": "2.7.9"
  }
 },
 "nbformat": 4,
 "nbformat_minor": 0
}
