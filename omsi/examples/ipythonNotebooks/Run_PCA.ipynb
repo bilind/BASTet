{
 "worksheets": [
  {
   "cells": [
    {
     "cell_type": "code",
     "metadata": {},
     "outputs": [
      {
       "output_type": "stream",
       "stream": "stdout",
       "text": [
        "Populating the interactive namespace from numpy and matplotlib\n"
       ]
      }
     ],
     "input": [
      "%pylab inline\n",
      "%config InlineBackend.figure_format = 'svg'"
     ],
     "language": "python",
     "prompt_number": 2
    },
    {
     "cell_type": "code",
     "metadata": {},
     "outputs": [],
     "input": [
      "from pylab import *\n",
      "import matplotlib.pyplot as plt\n",
      "from mpl_toolkits.axes_grid1 import ImageGrid\n",
      "import time\n",
      "from omsi.dataformat.omsi_file import *\n",
      "# from omsi.analysis.multivariate_stats.omsi_nmf import *\n",
      "from matplotlib.mlab import PCA"
     ],
     "language": "python",
     "prompt_number": 1
    },
    {
     "cell_type": "code",
     "metadata": {},
     "outputs": [],
     "input": [
      "#Load the input data\n",
      "inputFile = '/Users/bpb/20120711_Brain (2).h5'\n",
      "f = omsi_file( inputFile , 'a' )\n",
      "e = f.get_exp(0)\n",
      "a = e.get_analysis(0)\n",
      "d = a['peak_cube']"
     ],
     "language": "python",
     "prompt_number": 2
    },
    {
     "cell_type": "code",
     "metadata": {},
     "outputs": [],
     "input": [
      "#Execute the analysis\n",
      "# nmfResult = omsi_nmf(name_key='NMF on peak cube')\n",
      "# nmfResult.execute( msidata=d , numComponents=15 )\n",
      "msidata = d[:] #Load all MSI data\n",
      "originalShape = msidata.shape\n",
      "\n",
      "#Convert the input data to a 2D matrix for processing by the leverage score algorithm\n",
      "numBins   = msidata.shape[-1]\n",
      "numPixels = msidata.size / numBins #The last data dimension is assumed to contain the spectra\n",
      "msidata = msidata.reshape(numPixels, numBins)\n",
      "results = PCA(msidata)"
     ],
     "language": "python",
     "prompt_number": 7
    },
    {
     "cell_type": "code",
     "metadata": {},
     "outputs": [
      {
       "output_type": "stream",
       "stream": "stdout",
       "text": [
        "(697, 697)\n",
        "(14640, 697)\n"
       ]
      }
     ],
     "input": [
      "print results.Wt.shape\n",
      "print results.Y.shape"
     ],
     "language": "python",
     "prompt_number": 11
    },
    {
     "cell_type": "code",
     "metadata": {},
     "outputs": [
      {
       "output_type": "stream",
       "stream": "stdout",
       "text": [
        "(122, 120, 697)\n"
       ]
      }
     ],
     "input": [
      "temp = results.Y[:]\n",
      "temp = temp.reshape(originalShape)\n",
      "print(temp.shape)"
     ],
     "language": "python",
     "prompt_number": 13
    },
    {
     "cell_type": "code",
     "metadata": {},
     "outputs": [],
     "input": [
      "#Save the analysis to file\n",
      "# e.create_analysis( ocx )\n",
      "# f.close_file()"
     ],
     "language": "python"
    },
    {
     "cell_type": "code",
     "metadata": {},
     "outputs": [],
     "input": [
      "# imshow(d[:,:,0:3])\n",
      "fig = plt.figure(1, (14., 14.))\n",
      "grid = ImageGrid(fig, 111, # similar to subplot(111)\n",
      "                nrows_ncols = (3, 5), # creates 2x2 grid of axes\n",
      "                axes_pad=0.1, # pad between axes in inch.\n",
      "                )\n",
      "\n",
      "for i in range(15):\n",
      "    grid[i].imshow(temp[:,:,i]) # The AxesGrid object work as a list of axes.\n",
      "show()\n",
      "fig.savefig('/Users/bpb/pcaImages.eps')"
     ],
     "language": "python",
     "prompt_number": 14
    },
    {
     "cell_type": "code",
     "metadata": {},
     "outputs": [],
     "input": [
      ""
     ],
     "language": "python"
    }
   ]
  }
 ],
 "cells": [],
 "metadata": {
  "name": ""
 },
 "nbformat": 3,
 "nbformat_minor": 0
}