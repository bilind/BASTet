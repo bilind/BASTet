{
 "metadata": {
  "name": ""
 },
 "nbformat": 3,
 "nbformat_minor": 0,
 "worksheets": [
  {
   "cells": [
    {
     "cell_type": "code",
     "collapsed": false,
     "input": [
      "# https://pythonhosted.org/pyteomics/_modules/pyteomics/mzml.html\n",
      "# https://pythonhosted.org/pyteomics/data.html\n",
      "\n",
      "from pylab import *\n",
      "import matplotlib.pyplot as plt\n",
      "import re\n",
      "from pyteomics import mzml#, auxiliary\n",
      "import numpy as np\n",
      "import sys\n",
      "sys.path.append('/Users/bpb/Data/programming/OpenMSI/CodeForgeRepo/openmsi-tk')\n",
      "from omsi.dataformat.omsi_file import omsi_file\n"
     ],
     "language": "python",
     "metadata": {},
     "outputs": [],
     "prompt_number": 1
    },
    {
     "cell_type": "markdown",
     "metadata": {},
     "source": [
      "As a naive first step, determine the number of entries in the file.  We will use this to initalize an empty matrix for storing the coordinates of each spot."
     ]
    },
    {
     "cell_type": "code",
     "collapsed": false,
     "input": [
      "# infname='/Users/bpb/Downloads/LGU_9_slide_3_rat_lung_Tio_100um_FTMS.mzML'\n",
      "infname='/Users/bpb/cinetique_24H.mzML'\n",
      "msrun = mzml.read(infname)\n",
      "numScans = sum(1 for _ in msrun)\n",
      "print numScans"
     ],
     "language": "python",
     "metadata": {},
     "outputs": [
      {
       "output_type": "stream",
       "stream": "stdout",
       "text": [
        "3721\n"
       ]
      }
     ],
     "prompt_number": 2
    },
    {
     "cell_type": "markdown",
     "metadata": {},
     "source": [
      "Run through all the scans and store the x,y location of each scan in \"coords\""
     ]
    },
    {
     "cell_type": "code",
     "collapsed": false,
     "input": [
      "import re\n",
      "# line = \"Cats are smarter than dogs\"\n",
      "# matchObj = re.match( r'(.*) are (.*?) .*', line, re.M|re.I)\n",
      "\n",
      "msrun = mzml.read(infname)\n",
      "coords = np.zeros((numScans,2))\n",
      "counter=0\n",
      "spot = msrun.next()\n",
      "spotDescription = spot['id'].split('_x002f_')[1]\n",
      "# spot.keys()\n",
      "matchObj = re.findall( '\\d+', spotDescription)\n",
      "print matchObj\n",
      "print spotDescription\n",
      "print int(matchObj[2][:])\n",
      "# coords[counter,:] = map(int,spotId.split(',')[-1].split('x'))\n",
      "# print coords[counter,:]"
     ],
     "language": "python",
     "metadata": {},
     "outputs": [
      {
       "output_type": "stream",
       "stream": "stdout",
       "text": [
        "['0', '10', '105', '090']\n",
        "0_R10X105Y090\n",
        "105\n"
       ]
      }
     ],
     "prompt_number": 38
    },
    {
     "cell_type": "code",
     "collapsed": false,
     "input": [
      "msrun = mzml.read(infname)\n",
      "coords = np.zeros((numScans,2))\n",
      "counter=0\n",
      "for spectrum in msrun:\n",
      "    try:\n",
      "        #this is how the Thermo converted files look\n",
      "        spotId = spectrum['spotID']\n",
      "        coords[counter,:] = map(int,spotId.split(',')[-1].split('x'))\n",
      "    except:\n",
      "        #this is how the Bruker converted files look\n",
      "        spotDescription = spectrum['id'].split('_x002f_')[1]\n",
      "        matchObj = re.findall( '\\d+', spotDescription)\n",
      "        coords[counter,0] = int(matchObj[2])\n",
      "        coords[counter,1] = int(matchObj[3])\n",
      "    counter = counter + 1"
     ],
     "language": "python",
     "metadata": {},
     "outputs": [],
     "prompt_number": 39
    },
    {
     "cell_type": "markdown",
     "metadata": {},
     "source": [
      "Define the spatial configuration of the matrix.  x, y, and stepsize."
     ]
    },
    {
     "cell_type": "code",
     "collapsed": false,
     "input": [
      "stepSize = min([min(diff(np.unique(coords[:,0]))), min(diff(np.unique(coords[:,1])))])\n",
      "xEdges = np.unique(coords[:,0])\n",
      "yEdges = np.unique(coords[:,1])"
     ],
     "language": "python",
     "metadata": {},
     "outputs": [],
     "prompt_number": 40
    },
    {
     "cell_type": "markdown",
     "metadata": {},
     "source": [
      "Define the m/z axis at a given ppm binning."
     ]
    },
    {
     "cell_type": "code",
     "collapsed": false,
     "input": [
      "msrun = mzml.read(infname)\n",
      "spectrum = msrun.next()\n",
      "# print spectrum.keys()\n",
      "try:\n",
      "    #this is how the Thermo converted files look\n",
      "    mzMin = spectrum['scanList']['scan'][0]['scanWindowList']['scanWindow'][0]['scan window lower limit']\n",
      "    mzMax = spectrum['scanList']['scan'][0]['scanWindowList']['scanWindow'][0]['scan window upper limit']\n",
      "    ppm = 5\n",
      "    f = np.ceil(1e6*np.log(mzMax/mzMin)/ppm)\n",
      "    mzEdges = np.logspace(np.log10(mzMin),np.log10(mzMax),f)\n",
      "    # print (mzEdges[100]-mzEdges[99])/mzEdges[99]*1e6\n",
      "except:\n",
      "    #this is how the Bruker converted files look\n",
      "    print spectrum.keys()\n",
      "    mzEdges = spectrum['m/z array']\n",
      "print mzEdges"
     ],
     "language": "python",
     "metadata": {},
     "outputs": [
      {
       "output_type": "stream",
       "stream": "stdout",
       "text": [
        "['count', 'index', 'ms level', 'intensity array', 'defaultArrayLength', 'negative scan', 'm/z array', 'MS1 spectrum', 'profile spectrum', 'id', 'scanList']\n",
        "[  399.98591965   399.99050916   399.9950987  ...,  1000.05768836\n",
        "  1000.06495862  1000.0722289 ]\n"
       ]
      }
     ],
     "prompt_number": 43
    },
    {
     "cell_type": "markdown",
     "metadata": {},
     "source": [
      "Determine chunking parameters"
     ]
    },
    {
     "cell_type": "code",
     "collapsed": false,
     "input": [
      "spectrumChunk, sliceChunk, balancedChunk = suggest_chunking(xsize=xEdges.shape[0],\n",
      "                                                            ysize=yEdges.shape[0],\n",
      "                                                            mzsize=mzEdges.shape[0],\n",
      "                                                            dtype=float)"
     ],
     "language": "python",
     "metadata": {},
     "outputs": [],
     "prompt_number": 46
    },
    {
     "cell_type": "markdown",
     "metadata": {},
     "source": [
      "Open and hdf5 file and write an omsi entry to it of the raw data.  Interpolate each spectrum onto the new m/z axis"
     ]
    },
    {
     "cell_type": "code",
     "collapsed": false,
     "input": [
      "outshape = (xEdges.shape[0],yEdges.shape[0],mzEdges.shape[0])\n",
      "outdtype = float\n",
      "outfilename = \"/Users/bpb/testRawParserBruker.h5\"\n",
      "outfile  = omsi_file(outfilename, 'a')\n",
      "e = outfile.create_exp('New Experiment')\n",
      "outdata, outmz, outgroup = e.create_msidata_full_cube(data_shape=outshape,\n",
      "                                                      data_type=outdtype,\n",
      "                                                      mzdata_type=mzEdges.dtype,\n",
      "                                                      chunks=spectrumChunk,\n",
      "                                                      compression='gzip',\n",
      "                                                      compression_opts=4,\n",
      "                                                      flush_io=False)\n",
      "outmz[:] = mzEdges[:]\n",
      "\n",
      "msrun = mzml.read(infname)\n",
      "currspec = 0\n",
      "for spectrum in msrun:\n",
      "    x = spectrum['m/z array']\n",
      "    try:\n",
      "        y = spectrum['intensity array']\n",
      "    except:\n",
      "        y = spectrum['MS1 spectrum']\n",
      "    yi =  np.interp(mzEdges,x,y,0,0)\n",
      "    xIdx = np.nonzero(xEdges == coords[currspec,0])[0]\n",
      "    yIdx = np.nonzero(yEdges == coords[currspec,1])[0]\n",
      "    outdata[xIdx, yIdx, :] = yi\n",
      "    currspec+=1\n",
      "    \n",
      "outfile.flush()\n",
      "outfile.close_file()\n",
      "del outfile"
     ],
     "language": "python",
     "metadata": {},
     "outputs": [],
     "prompt_number": 47
    },
    {
     "cell_type": "code",
     "collapsed": false,
     "input": [
      "# omsi_file.get_omsi_object(outgroup).create_optimized_chunking(chunks=sliceChunk,compression='gzip',compression_opts=4,copy_data=True,print_status=True,flush_io=True)"
     ],
     "language": "python",
     "metadata": {},
     "outputs": []
    },
    {
     "cell_type": "code",
     "collapsed": false,
     "input": [
      "def suggest_chunking(xsize, ysize, mzsize, dtype, print_results=False):\n",
      "    \"\"\"Helper function used to suggest god chunking strategies for a given data cube\n",
      "\n",
      "       :param xsize: Size of the dataset in x.\n",
      "       :param ysize: Size o the dataset in y.\n",
      "       :param mzsize: Size of the dataset in mz.\n",
      "       :param print_results: Print the results to the console.\n",
      "\n",
      "       :returns: Three tupes:\n",
      "\n",
      "        * ``spectrumChunk`` : The chunking to be used to optimize selection of spectra.\n",
      "        * ``sliceChunk`` : The chunking to be used to optimize selection of image slices.\n",
      "        * ``balancedChunk`` : The chunking that would provide a good balance in performance for \\\n",
      "                            different selection strategies.\n",
      "    \"\"\"\n",
      "    # Make sure that all sizes are treated as 64bit int to avoid errors due to\n",
      "    # artificial cutoffs.\n",
      "    xsize = int(xsize)\n",
      "    ysize = int(ysize)\n",
      "    mzsize = int(mzsize)\n",
      "    imageSize = xsize * ysize\n",
      "\n",
      "    # Variable settings\n",
      "    numBytes = np.dtype(dtype).itemsize  # Number of bytes per data value\n",
      "    # Nober of values that fit into a 64Kb chunk\n",
      "    suggestedNumValues = (1024 * 64) / numBytes\n",
      "    # How much larger than the suggestNumValues should we allow a chunk to\n",
      "    # become\n",
      "    maxFactor = 4\n",
      "\n",
      "    # Define the chunking that would be good for spectra\n",
      "    spectrumXChunk = 1\n",
      "    spectrumYChunk = 1\n",
      "    factor1 = math.floor(mzsize / float(suggestedNumValues))\n",
      "    spectrumMzChunk1 = int(math.ceil(mzsize / float(factor1)))\n",
      "    factor1 = math.ceil(mzsize / float(spectrumMzChunk1))\n",
      "    overhead1 = ((factor1 * spectrumMzChunk1) - mzsize) * imageSize * numBytes\n",
      "    # overhead1 = ((spectrumMzChunk1 *  math.ceil (float(mzsize) / float(spectrumMzChunk1))) - \\\n",
      "    #              (spectrumMzChunk1 *  math.floor(float(mzsize) / float(spectrumMzChunk1)))) * \\\n",
      "    #            imageSize * numBytes\n",
      "    #overhead1 = (spectrumMzChunk1 - math.ceil(float(mzsize) % float(spectrumMzChunk1))) * imageSize * numBytes\n",
      "    factor2 = math.ceil(mzsize / float(suggestedNumValues))\n",
      "    spectrumMzChunk2 = int(math.ceil(mzsize / float(factor2)))\n",
      "    factor2 = math.ceil(mzsize / float(spectrumMzChunk2))\n",
      "    overhead2 = ((factor2 * spectrumMzChunk2) - mzsize) * imageSize * numBytes\n",
      "    #overhead2 = (spectrumMzChunk2 - math.ceil(float(mzsize) % float(spectrumMzChunk2))) * imageSize *numBytes\n",
      "    # overhead2 = ((spectrumMzChunk2 *  math.ceil (float(mzsize) / float(spectrumMzChunk2))) - \\\n",
      "    #              (spectrumMzChunk2 *  math.floor(float(mzsize) / float(spectrumMzChunk2)))) * \\\n",
      "    #            imageSize * numBytes\n",
      "    if overhead1 < overhead2:\n",
      "        spectrumMzChunk = spectrumMzChunk1\n",
      "        spectrumChunkOverhead = overhead1\n",
      "    else:\n",
      "        spectrumMzChunk = spectrumMzChunk2\n",
      "        spectrumChunkOverhead = overhead2\n",
      "    spectrumChunk = (spectrumXChunk, spectrumYChunk, spectrumMzChunk)\n",
      "    if print_results:\n",
      "\n",
      "        print \"Spectrum selection chunking: \" + str(spectrumChunk)\n",
      "        print \"     - Ideal for selection of full spectra.\"\n",
      "        print \"     - Overhead: \" + str(spectrumChunkOverhead) + \\\n",
      "              \" Byte (\" + str(int(math.ceil(spectrumChunkOverhead / (1024. * 1024.)))) + \" MB)\"\n",
      "\n",
      "    # Define a chunking that would be good for images\n",
      "    sliceChunkX = xsize\n",
      "    sliceChunkY = ysize\n",
      "    sliceChunkMz = 1\n",
      "    chunkSize = sliceChunkX * sliceChunkY * sliceChunkMz\n",
      "    if math.ceil(float(chunkSize) / float(suggestedNumValues)) > maxFactor:\n",
      "        sliceChunkX = int(math.ceil(xsize / 2.))\n",
      "        sliceChunkY = int(math.ceil(ysize / 2.))\n",
      "    sliceChunk = (sliceChunkX, sliceChunkY, sliceChunkMz)\n",
      "    # math.ceil(float(xsize) % float(sliceChunkX))\n",
      "    sliceChunkOverheadX = (\n",
      "        sliceChunkX * math.ceil(float(xsize) / float(sliceChunkX))) - xsize\n",
      "    # math.ceil(float(ysize) % float(sliceChunkY))\n",
      "    sliceChunkOverheadY = (\n",
      "        sliceChunkY * math.ceil(float(ysize) / float(sliceChunkY))) - ysize\n",
      "    sliceChunkOverhead = ((sliceChunkOverheadX * ysize) + (sliceChunkOverheadY * xsize)\n",
      "                          - (sliceChunkOverheadX * sliceChunkOverheadY)) * mzsize * numBytes\n",
      "    if print_results:\n",
      "\n",
      "        print \"Slice selection chunking: \" + str(sliceChunk)\n",
      "        print \"     - Ideal for selection of full image slices.\"\n",
      "        print \"     - Overhead: \" + str(sliceChunkOverhead) + \\\n",
      "              \" Byte (\" + str(int(math.ceil(sliceChunkOverhead / (1024. * 1024.)))) + \" MB)\"\n",
      "\n",
      "    # Define a balanced chunkgin\n",
      "    balancedChunkX = 4\n",
      "    balancedChunkY = 4\n",
      "    balancedChunkMz = 2048\n",
      "    balancedChunk = (balancedChunkX, balancedChunkY, balancedChunkMz)\n",
      "    if print_results:\n",
      "\n",
      "        print \"Balanced chunking: \" + str(balancedChunk)\n",
      "        print \"     - This chunking tries to compromise between selection of slices and spectra.\"\n",
      "\n",
      "    return spectrumChunk, sliceChunk, balancedChunk\n"
     ],
     "language": "python",
     "metadata": {},
     "outputs": [],
     "prompt_number": 45
    }
   ],
   "metadata": {}
  }
 ]
}